{
 "cells": [
  {
   "cell_type": "code",
   "execution_count": 7,
   "metadata": {},
   "outputs": [],
   "source": [
    "import os\n",
    "import shutil\n",
    "import random\n",
    "\n",
    "def split_corresponding_datasets(folder_a, folder_b, output_folder, train_ratio=0.7, val_ratio=0.2, test_ratio=0.1):\n",
    "    # Ensure ratios sum to 1\n",
    "    # assert (train_ratio + val_ratio + test_ratio) == 1.0, \"Ratios must sum to 1\"\n",
    "\n",
    "    # Create output directories for folder A and B\n",
    "    for folder in ['train', 'val', 'test']:\n",
    "        os.makedirs(os.path.join(output_folder, 'A', folder), exist_ok=True)\n",
    "        os.makedirs(os.path.join(output_folder, 'B', folder), exist_ok=True)\n",
    "\n",
    "    # Get list of all images from folder A\n",
    "    images_a = sorted([f for f in os.listdir(folder_a) if os.path.isfile(os.path.join(folder_a, f))])\n",
    "    images_b = sorted([f for f in os.listdir(folder_b) if os.path.isfile(os.path.join(folder_b, f))])\n",
    "    \n",
    "    assert len(images_a) == len(images_b), \"Folders A and B must have the same number of files\"\n",
    "\n",
    "    # Pair corresponding files\n",
    "    paired_images = list(zip(images_a, images_b))\n",
    "    random.shuffle(paired_images)\n",
    "\n",
    "    # Calculate split indices\n",
    "    total_images = len(paired_images)\n",
    "    train_end = int(total_images * train_ratio)\n",
    "    val_end = train_end + int(total_images * val_ratio)\n",
    "\n",
    "    # Split images\n",
    "    train_images = paired_images[:train_end]\n",
    "    val_images = paired_images[train_end:val_end]\n",
    "    test_images = paired_images[val_end:]\n",
    "\n",
    "    # Copy images to respective folders\n",
    "    for img_a, img_b in train_images:\n",
    "        shutil.copy(os.path.join(folder_a, img_a), os.path.join(output_folder, 'A', 'train', img_a))\n",
    "        shutil.copy(os.path.join(folder_b, img_b), os.path.join(output_folder, 'B', 'train', img_b))\n",
    "\n",
    "    for img_a, img_b in val_images:\n",
    "        shutil.copy(os.path.join(folder_a, img_a), os.path.join(output_folder, 'A', 'val', img_a))\n",
    "        shutil.copy(os.path.join(folder_b, img_b), os.path.join(output_folder, 'B', 'val', img_b))\n",
    "\n",
    "    for img_a, img_b in test_images:\n",
    "        shutil.copy(os.path.join(folder_a, img_a), os.path.join(output_folder, 'A', 'test', img_a))\n",
    "        shutil.copy(os.path.join(folder_b, img_b), os.path.join(output_folder, 'B', 'test', img_b))\n",
    "\n",
    "    print(f\"Total images: {total_images}\")\n",
    "    print(f\"Training images: {len(train_images)}\")\n",
    "    print(f\"Validation images: {len(val_images)}\")\n",
    "    print(f\"Testing images: {len(test_images)}\")"
   ]
  },
  {
   "cell_type": "code",
   "execution_count": 8,
   "metadata": {},
   "outputs": [
    {
     "name": "stdout",
     "output_type": "stream",
     "text": [
      "Total images: 130\n",
      "Training images: 91\n",
      "Validation images: 26\n",
      "Testing images: 13\n"
     ]
    }
   ],
   "source": [
    "# Example usage\n",
    "folder_a = 'FacialData/A'\n",
    "folder_b = 'FacialData/B'\n",
    "output_folder = 'FacialData/NewData'\n",
    "split_corresponding_datasets(folder_a, folder_b, output_folder)\n"
   ]
  },
  {
   "cell_type": "code",
   "execution_count": null,
   "metadata": {},
   "outputs": [],
   "source": []
  }
 ],
 "metadata": {
  "kernelspec": {
   "display_name": "base",
   "language": "python",
   "name": "python3"
  },
  "language_info": {
   "codemirror_mode": {
    "name": "ipython",
    "version": 3
   },
   "file_extension": ".py",
   "mimetype": "text/x-python",
   "name": "python",
   "nbconvert_exporter": "python",
   "pygments_lexer": "ipython3",
   "version": "3.11.9"
  }
 },
 "nbformat": 4,
 "nbformat_minor": 2
}
