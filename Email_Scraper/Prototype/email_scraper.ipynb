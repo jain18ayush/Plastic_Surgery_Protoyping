{
 "cells": [
  {
   "cell_type": "markdown",
   "metadata": {},
   "source": [
    "# Utility Functions"
   ]
  },
  {
   "cell_type": "code",
   "execution_count": 72,
   "metadata": {},
   "outputs": [],
   "source": [
    "#returns a list that is all the values in list2 not present in list1\n",
    "def dedup(domains_from_file, domains):\n",
    "  unique_domains = [domain for domain in domains if domain not in domains_from_file]\n",
    "  return unique_domains\n"
   ]
  },
  {
   "cell_type": "code",
   "execution_count": 73,
   "metadata": {},
   "outputs": [],
   "source": [
    "import tldextract\n",
    "def normalize_domain(domain):\n",
    "  extracted = tldextract.extract(domain)\n",
    "  normalized_domain = f\"{extracted.domain}.{extracted.suffix}\".lower()\n",
    "  return normalized_domain\n"
   ]
  },
  {
   "cell_type": "code",
   "execution_count": 74,
   "metadata": {},
   "outputs": [],
   "source": [
    "import os\n",
    "import csv\n",
    "\n",
    "def toCSV(source, rows):\n",
    "    csv_filename = f'{source}.csv'\n",
    "\n",
    "    # Determine if the CSV file already exists\n",
    "    file_exists = os.path.isfile(csv_filename)\n",
    "\n",
    "    # Write to CSV file\n",
    "    with open(csv_filename, mode='a' if file_exists else 'w', newline='', encoding='utf-8') as file:\n",
    "        writer = csv.writer(file)\n",
    "        writer.writerows(rows)\n",
    "\n",
    "    print(f\"Data has been written to {csv_filename}\")\n"
   ]
  },
  {
   "cell_type": "code",
   "execution_count": 75,
   "metadata": {},
   "outputs": [],
   "source": [
    "def save_html(source, domain, html_content):\n",
    "  folder_path = f'./HTML/{source}'\n",
    "  if not os.path.exists(folder_path):\n",
    "    os.makedirs(folder_path)\n",
    "\n",
    "  file_path = folder_path + f'/{domain}.html'\n",
    "  print(file_path)\n",
    "  with open(file_path, 'w') as file:\n",
    "    file.write(html_content)"
   ]
  },
  {
   "cell_type": "code",
   "execution_count": 76,
   "metadata": {},
   "outputs": [],
   "source": [
    "from bs4 import BeautifulSoup\n",
    "\n",
    "def extractData(html_content):\n",
    "    soup = BeautifulSoup(html_content, 'html.parser')\n",
    "    table = soup.find('table')\n",
    "    if table is None:\n",
    "        return\n",
    "\n",
    "    # Extract table rows\n",
    "    rows = []\n",
    "    for row in table.find('tbody').find_all('tr'):\n",
    "        cells = row.find_all('td')\n",
    "        row_data = [cell.get_text(strip=True) for cell in cells]\n",
    "        rows.append(row_data)\n",
    "    \n",
    "    return rows\n"
   ]
  },
  {
   "cell_type": "markdown",
   "metadata": {},
   "source": [
    "# Data Retrieval"
   ]
  },
  {
   "cell_type": "code",
   "execution_count": 77,
   "metadata": {},
   "outputs": [],
   "source": [
    "# Function to read domains from a file\n",
    "def read_domains(file_path):\n",
    "    with open(file_path, 'r') as file:\n",
    "        domains = [line.strip() for line in file if line.strip()]\n",
    "    return domains"
   ]
  },
  {
   "cell_type": "code",
   "execution_count": 78,
   "metadata": {},
   "outputs": [],
   "source": [
    "import os\n",
    "\n",
    "def get_finished_HTML_domains(directory='./HTML/aeroleads'):\n",
    "    # creates the directory if it does not exist already \n",
    "    if not os.path.exists(directory):\n",
    "        os.makedirs(directory)\n",
    "    \n",
    "    # Initialize an empty list to store filenames\n",
    "    domains_from_file = []\n",
    "\n",
    "    # Iterate over all files in the directory\n",
    "    for filename in os.listdir(directory):\n",
    "        # Check if the file ends with .html\n",
    "        if filename.endswith('.html'):\n",
    "            # Remove the .html extension and add to the list\n",
    "            domains_from_file.append(os.path.splitext(filename)[0])\n",
    "    \n",
    "    return domains_from_file\n"
   ]
  },
  {
   "cell_type": "code",
   "execution_count": 79,
   "metadata": {},
   "outputs": [],
   "source": [
    "import json\n",
    "\n",
    "#Get JSON Data\n",
    "def get_JSON_domains(filename):\n",
    "  # Load the JSON data from a file\n",
    "  with open(filename, 'r') as file:\n",
    "      data = json.load(file)\n",
    "\n",
    "  # Function to extract domain names from email addresses\n",
    "  def get_domain(email):\n",
    "      if \"@\" in email:\n",
    "          return email.split('@')[1]\n",
    "      return None\n",
    "\n",
    "  # Extract and print domain names from email addresses\n",
    "  domains = set()  # Use a set to avoid duplicates\n",
    "  for doctor in data:\n",
    "      email = doctor.get('Email')\n",
    "      if email:\n",
    "          domain = get_domain(email)\n",
    "          if domain:\n",
    "              domains.add(domain)\n",
    "\n",
    "  # Print the extracted domain names\n",
    "  return domains"
   ]
  },
  {
   "cell_type": "code",
   "execution_count": 80,
   "metadata": {},
   "outputs": [],
   "source": [
    "def get_domains(filepath):\n",
    "  with open(filepath, 'r') as file:\n",
    "    domains = set(line.strip() for line in file)\n",
    "  return domains"
   ]
  },
  {
   "cell_type": "markdown",
   "metadata": {},
   "source": [
    "# Download HTML"
   ]
  },
  {
   "cell_type": "code",
   "execution_count": 81,
   "metadata": {},
   "outputs": [],
   "source": [
    "import time\n",
    "from selenium import webdriver\n",
    "from selenium.webdriver.common.by import By\n",
    "from selenium.webdriver.common.keys import Keys\n",
    "\n",
    "def download_aero(domains):\n",
    "  \n",
    "  #need to remove the domain if it already has an html file. \n",
    "  HTML_domains = get_finished_HTML_domains('./HTML/aeroleads')\n",
    "  domain_list = dedup(HTML_domains, domains)\n",
    "\n",
    "  print(len(domain_list))\n",
    "  #initial stuff \n",
    "  # Set up the WebDriver (this example uses Chrome)\n",
    "  driver = webdriver.Chrome()\n",
    "\n",
    "  # Replace with the URL of the page containing the input field\n",
    "  url = \"https://aeroleads.com/email-finder\"\n",
    "\n",
    "  driver.get(url)\n",
    "\n",
    "  ##clicks button to change to the proper email\n",
    "  button = driver.find_element(By.XPATH, '//*[@id=\"kt_app_content_container\"]/ul/li[2]/a')\n",
    "\n",
    "  # Click the button\n",
    "  button.click()\n",
    "\n",
    "  time.sleep(5)\n",
    "\n",
    "  for domain_name in domain_list:\n",
    "    # Locate the input field by its ID\n",
    "    input_field = driver.find_element(By.ID, \"domain_input\")\n",
    "    #clear the input before writing to it again\n",
    "    input_field.clear()\n",
    "    # Fill in the input field with a value\n",
    "    input_field.send_keys(domain_name)\n",
    "\n",
    "    # Optionally, submit the form if necessary (this example presses Enter)\n",
    "    input_field.send_keys(Keys.RETURN)\n",
    "\n",
    "    # Close the WebDriver after a short wait to see the result (optional)\n",
    "    time.sleep(2)\n",
    "\n",
    "    #now need to get the \n",
    "    html_content = driver.page_source\n",
    "    #save html\n",
    "    save_html('aeroleads', domain=domain_name, html_content=html_content)\n",
    "\n",
    "  driver.quit()"
   ]
  },
  {
   "cell_type": "code",
   "execution_count": 82,
   "metadata": {},
   "outputs": [],
   "source": [
    "def extract_aero(html_directory, finished_file):\n",
    "    \"\"\"\n",
    "    Extracts domains from HTML files in a directory and processes only those not in the finished file.\n",
    "\n",
    "    Args:\n",
    "    html_directory (str): The directory containing HTML files.\n",
    "    finished_file (str): Path to the file containing already processed domains.\n",
    "\n",
    "    Returns:\n",
    "    list: List of domains that have been processed.\n",
    "    \"\"\"\n",
    "    #create finished file if it does not exist\n",
    "    if not os.path.exists(finished_file):\n",
    "        with open(finished_file, 'w') as file:\n",
    "            pass  # Just create an empty file\n",
    "\n",
    "    # Read finished domains from the file\n",
    "    with open(finished_file, 'r') as file:\n",
    "        finished_domains = set(line.strip() for line in file)\n",
    "\n",
    "    for filename in os.listdir(html_directory):\n",
    "        if filename.endswith('.html'):\n",
    "            # Extract domain from filename (removing the .html extension)\n",
    "            domain = filename[:-5]\n",
    "            \n",
    "            # Process only if domain is not in finished list\n",
    "            if domain not in finished_domains:\n",
    "                # Open and read the HTML file\n",
    "                with open(os.path.join(html_directory, filename), 'r') as file:\n",
    "                    content = file.read()\n",
    "                    # Extract data from the content\n",
    "                    data = extractData(content)\n",
    "                    \n",
    "                    if data is not None:\n",
    "                        toCSV('aeroleads', data)\n",
    "                    \n",
    "                    # Add domain to processed domains\n",
    "                    with open('finished.txt', 'a') as file:\n",
    "                      file.write(domain + '\\n')"
   ]
  },
  {
   "cell_type": "code",
   "execution_count": 83,
   "metadata": {},
   "outputs": [],
   "source": [
    "def process_domains(filepath):\n",
    "  domain_list = get_domains(filepath) #normalize domains\n",
    "  domains = [normalize_domain(domain) for domain in domain_list]\n",
    "\n",
    "  download_aero(domains)\n",
    "  extract_aero('./HTML/aeroleads', './finished.txt')"
   ]
  }
 ],
 "metadata": {
  "kernelspec": {
   "display_name": ".venv",
   "language": "python",
   "name": "python3"
  },
  "language_info": {
   "codemirror_mode": {
    "name": "ipython",
    "version": 3
   },
   "file_extension": ".py",
   "mimetype": "text/x-python",
   "name": "python",
   "nbconvert_exporter": "python",
   "pygments_lexer": "ipython3",
   "version": "3.12.2"
  }
 },
 "nbformat": 4,
 "nbformat_minor": 2
}
