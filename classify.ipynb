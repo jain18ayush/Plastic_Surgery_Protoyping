{
 "cells": [
  {
   "cell_type": "code",
   "execution_count": 17,
   "metadata": {},
   "outputs": [
    {
     "name": "stdout",
     "output_type": "stream",
     "text": [
      "Check complete!\n"
     ]
    }
   ],
   "source": [
    "import tensorflow as tf\n",
    "import os\n",
    "\n",
    "# Specify the directory containing images\n",
    "directory = \"./Dataset/Angle\"\n",
    "\n",
    "# Function to load and preprocess an image file\n",
    "def check_image(file_path):\n",
    "    try:\n",
    "        image = tf.io.read_file(file_path)\n",
    "        image = tf.image.decode_image(image, channels=3, expand_animations=False)\n",
    "        image = tf.image.resize(image, [224, 224])\n",
    "        image = tf.cast(image, tf.float32) / 255.0  # Normalize to [0, 1]\n",
    "        return True\n",
    "    except Exception as e:\n",
    "        print(f\"Error with file {file_path}: {e}\")\n",
    "        return False\n",
    "\n",
    "# Iterate over all files in the directory\n",
    "for filename in os.listdir(directory):\n",
    "    file_path = os.path.join(directory, filename)\n",
    "    if os.path.isfile(file_path):\n",
    "        if not check_image(file_path):\n",
    "            print(f\"File causing issue: {file_path}\")\n",
    "\n",
    "print(\"Check complete!\")\n"
   ]
  },
  {
   "cell_type": "code",
   "execution_count": 25,
   "metadata": {},
   "outputs": [
    {
     "name": "stdout",
     "output_type": "stream",
     "text": [
      "Found 304 files belonging to 3 classes.\n",
      "Using 244 files for training.\n"
     ]
    },
    {
     "name": "stdout",
     "output_type": "stream",
     "text": [
      "Found 304 files belonging to 3 classes.\n",
      "Using 60 files for validation.\n"
     ]
    }
   ],
   "source": [
    "import tensorflow as tf\n",
    "from tensorflow.keras.preprocessing import image_dataset_from_directory\n",
    "\n",
    "dataset_path = \"./Dataset\"\n",
    "\n",
    "# Load training dataset\n",
    "train_dataset = image_dataset_from_directory(\n",
    "    dataset_path,\n",
    "    validation_split=0.2,\n",
    "    subset=\"training\",\n",
    "    seed=123,\n",
    "    image_size=(224, 224),\n",
    "    batch_size=16\n",
    ")\n",
    "\n",
    "# Load validation dataset\n",
    "validation_dataset = image_dataset_from_directory(\n",
    "    dataset_path,\n",
    "    validation_split=0.2,\n",
    "    subset=\"validation\",\n",
    "    seed=123,\n",
    "    image_size=(224, 224),\n",
    "    batch_size=16\n",
    ")"
   ]
  },
  {
   "cell_type": "code",
   "execution_count": 26,
   "metadata": {},
   "outputs": [
    {
     "name": "stderr",
     "output_type": "stream",
     "text": [
      "/Users/ayushjain/Development/Research/.venv/lib/python3.12/site-packages/keras/src/layers/preprocessing/tf_data_layer.py:18: UserWarning: Do not pass an `input_shape`/`input_dim` argument to a layer. When using Sequential models, prefer using an `Input(shape)` object as the first layer in the model instead.\n",
      "  super().__init__(**kwargs)\n"
     ]
    }
   ],
   "source": [
    "from tensorflow.keras import layers, models\n",
    "\n",
    "model = models.Sequential([\n",
    "    layers.Rescaling(1./255, input_shape=(224, 224, 3)),\n",
    "    layers.Conv2D(32, (3, 3), activation='relu'),\n",
    "    layers.MaxPooling2D((2, 2)),\n",
    "    layers.Conv2D(64, (3, 3), activation='relu'),\n",
    "    layers.MaxPooling2D((2, 2)),\n",
    "    layers.Conv2D(128, (3, 3), activation='relu'),\n",
    "    layers.MaxPooling2D((2, 2)),\n",
    "    layers.Flatten(),\n",
    "    layers.Dense(128, activation='relu'),\n",
    "    layers.Dense(3, activation='softmax')\n",
    "])\n",
    "\n",
    "model.compile(optimizer='adam',\n",
    "              loss='sparse_categorical_crossentropy',\n",
    "              metrics=['accuracy'])\n"
   ]
  },
  {
   "cell_type": "code",
   "execution_count": 27,
   "metadata": {},
   "outputs": [
    {
     "name": "stdout",
     "output_type": "stream",
     "text": [
      "Epoch 1/10\n",
      "\u001b[1m16/16\u001b[0m \u001b[32m━━━━━━━━━━━━━━━━━━━━\u001b[0m\u001b[37m\u001b[0m \u001b[1m5s\u001b[0m 262ms/step - accuracy: 0.4911 - loss: 2.1309 - val_accuracy: 0.7333 - val_loss: 0.7486\n",
      "Epoch 2/10\n",
      "\u001b[1m16/16\u001b[0m \u001b[32m━━━━━━━━━━━━━━━━━━━━\u001b[0m\u001b[37m\u001b[0m \u001b[1m4s\u001b[0m 245ms/step - accuracy: 0.6472 - loss: 0.8705 - val_accuracy: 0.7333 - val_loss: 0.7697\n",
      "Epoch 3/10\n",
      "\u001b[1m16/16\u001b[0m \u001b[32m━━━━━━━━━━━━━━━━━━━━\u001b[0m\u001b[37m\u001b[0m \u001b[1m4s\u001b[0m 259ms/step - accuracy: 0.7542 - loss: 0.5946 - val_accuracy: 0.7500 - val_loss: 0.6713\n",
      "Epoch 4/10\n",
      "\u001b[1m16/16\u001b[0m \u001b[32m━━━━━━━━━━━━━━━━━━━━\u001b[0m\u001b[37m\u001b[0m \u001b[1m5s\u001b[0m 269ms/step - accuracy: 0.8693 - loss: 0.3542 - val_accuracy: 0.5667 - val_loss: 1.0752\n",
      "Epoch 5/10\n",
      "\u001b[1m16/16\u001b[0m \u001b[32m━━━━━━━━━━━━━━━━━━━━\u001b[0m\u001b[37m\u001b[0m \u001b[1m5s\u001b[0m 274ms/step - accuracy: 0.9280 - loss: 0.2263 - val_accuracy: 0.7667 - val_loss: 0.7994\n",
      "Epoch 6/10\n",
      "\u001b[1m16/16\u001b[0m \u001b[32m━━━━━━━━━━━━━━━━━━━━\u001b[0m\u001b[37m\u001b[0m \u001b[1m4s\u001b[0m 243ms/step - accuracy: 0.9584 - loss: 0.1160 - val_accuracy: 0.6667 - val_loss: 1.0583\n",
      "Epoch 7/10\n",
      "\u001b[1m16/16\u001b[0m \u001b[32m━━━━━━━━━━━━━━━━━━━━\u001b[0m\u001b[37m\u001b[0m \u001b[1m4s\u001b[0m 246ms/step - accuracy: 0.9782 - loss: 0.0779 - val_accuracy: 0.7833 - val_loss: 1.1937\n",
      "Epoch 8/10\n",
      "\u001b[1m16/16\u001b[0m \u001b[32m━━━━━━━━━━━━━━━━━━━━\u001b[0m\u001b[37m\u001b[0m \u001b[1m4s\u001b[0m 247ms/step - accuracy: 1.0000 - loss: 0.0064 - val_accuracy: 0.7167 - val_loss: 1.7821\n",
      "Epoch 9/10\n",
      "\u001b[1m16/16\u001b[0m \u001b[32m━━━━━━━━━━━━━━━━━━━━\u001b[0m\u001b[37m\u001b[0m \u001b[1m4s\u001b[0m 251ms/step - accuracy: 1.0000 - loss: 0.0035 - val_accuracy: 0.8333 - val_loss: 1.7901\n",
      "Epoch 10/10\n",
      "\u001b[1m16/16\u001b[0m \u001b[32m━━━━━━━━━━━━━━━━━━━━\u001b[0m\u001b[37m\u001b[0m \u001b[1m4s\u001b[0m 244ms/step - accuracy: 1.0000 - loss: 0.0015 - val_accuracy: 0.7833 - val_loss: 1.8724\n"
     ]
    }
   ],
   "source": [
    "epochs = 10\n",
    "history = model.fit(\n",
    "    train_dataset,\n",
    "    validation_data=validation_dataset,\n",
    "    epochs=epochs\n",
    ")"
   ]
  },
  {
   "cell_type": "code",
   "execution_count": 28,
   "metadata": {},
   "outputs": [
    {
     "name": "stdout",
     "output_type": "stream",
     "text": [
      "\u001b[1m4/4\u001b[0m \u001b[32m━━━━━━━━━━━━━━━━━━━━\u001b[0m\u001b[37m\u001b[0m \u001b[1m0s\u001b[0m 66ms/step\n",
      "Predicted: Front, True: Side\n",
      "Predicted: Front, True: Front\n",
      "Predicted: Front, True: Front\n",
      "Predicted: Angle, True: Side\n",
      "Predicted: Front, True: Side\n",
      "Predicted: Front, True: Front\n",
      "Predicted: Side, True: Front\n",
      "Predicted: Front, True: Side\n",
      "Predicted: Front, True: Front\n",
      "Predicted: Front, True: Front\n",
      "Predicted: Side, True: Side\n",
      "Predicted: Front, True: Angle\n",
      "Predicted: Front, True: Front\n",
      "Predicted: Front, True: Front\n",
      "Predicted: Front, True: Front\n",
      "Predicted: Angle, True: Front\n",
      "Predicted: Front, True: Side\n",
      "Predicted: Angle, True: Front\n",
      "Predicted: Front, True: Front\n",
      "Predicted: Front, True: Front\n",
      "Predicted: Side, True: Front\n",
      "Predicted: Side, True: Front\n",
      "Predicted: Front, True: Front\n",
      "Predicted: Front, True: Front\n",
      "Predicted: Front, True: Angle\n",
      "Predicted: Front, True: Front\n",
      "Predicted: Angle, True: Front\n",
      "Predicted: Angle, True: Front\n",
      "Predicted: Side, True: Front\n",
      "Predicted: Front, True: Front\n",
      "Predicted: Side, True: Front\n",
      "Predicted: Front, True: Angle\n",
      "Predicted: Front, True: Front\n",
      "Predicted: Front, True: Front\n",
      "Predicted: Front, True: Front\n",
      "Predicted: Front, True: Front\n",
      "Predicted: Front, True: Side\n",
      "Predicted: Front, True: Front\n",
      "Predicted: Side, True: Front\n",
      "Predicted: Front, True: Front\n",
      "Predicted: Front, True: Front\n",
      "Predicted: Front, True: Front\n",
      "Predicted: Front, True: Front\n",
      "Predicted: Front, True: Angle\n",
      "Predicted: Side, True: Front\n",
      "Predicted: Front, True: Front\n",
      "Predicted: Front, True: Front\n",
      "Predicted: Front, True: Front\n",
      "Predicted: Front, True: Front\n",
      "Predicted: Front, True: Angle\n",
      "Predicted: Front, True: Front\n",
      "Predicted: Front, True: Front\n",
      "Predicted: Front, True: Side\n",
      "Predicted: Front, True: Front\n",
      "Predicted: Front, True: Angle\n",
      "Predicted: Side, True: Front\n",
      "Predicted: Front, True: Front\n",
      "Predicted: Front, True: Side\n",
      "Predicted: Side, True: Angle\n",
      "Predicted: Front, True: Front\n"
     ]
    },
    {
     "name": "stderr",
     "output_type": "stream",
     "text": [
      "2024-05-15 18:56:25.944908: W tensorflow/core/framework/local_rendezvous.cc:404] Local rendezvous is aborting with status: OUT_OF_RANGE: End of sequence\n"
     ]
    }
   ],
   "source": [
    "import tensorflow as tf\n",
    "from tensorflow.keras.preprocessing import image_dataset_from_directory\n",
    "import numpy as np\n",
    "import matplotlib.pyplot as plt\n",
    "\n",
    "# Assuming the validation dataset is already loaded\n",
    "# validation_dataset is already defined as part of your training process\n",
    "\n",
    "# Make predictions on the validation dataset\n",
    "predictions = model.predict(validation_dataset)\n",
    "\n",
    "# Get class names\n",
    "class_names = validation_dataset.class_names\n",
    "\n",
    "# Convert predictions to class labels\n",
    "predicted_class_indices = np.argmax(predictions, axis=1)\n",
    "predicted_class_names = [class_names[i] for i in predicted_class_indices]\n",
    "\n",
    "# Extract true labels\n",
    "true_labels = np.concatenate([y for x, y in validation_dataset], axis=0)\n",
    "true_class_names = [class_names[i] for i in true_labels]\n",
    "\n",
    "# Compare predictions with true labels\n",
    "results = list(zip(predicted_class_names, true_class_names))\n",
    "\n",
    "# Print results for all validation images\n",
    "for pred, true in results:\n",
    "    print(f\"Predicted: {pred}, True: {true}\")"
   ]
  },
  {
   "cell_type": "code",
   "execution_count": null,
   "metadata": {},
   "outputs": [],
   "source": []
  }
 ],
 "metadata": {
  "kernelspec": {
   "display_name": ".venv",
   "language": "python",
   "name": "python3"
  },
  "language_info": {
   "codemirror_mode": {
    "name": "ipython",
    "version": 3
   },
   "file_extension": ".py",
   "mimetype": "text/x-python",
   "name": "python",
   "nbconvert_exporter": "python",
   "pygments_lexer": "ipython3",
   "version": "3.12.2"
  }
 },
 "nbformat": 4,
 "nbformat_minor": 2
}
